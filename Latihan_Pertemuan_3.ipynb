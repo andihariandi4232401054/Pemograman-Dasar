{
  "nbformat": 4,
  "nbformat_minor": 0,
  "metadata": {
    "colab": {
      "provenance": [],
      "authorship_tag": "ABX9TyPy/zO9FNqM8CIXgdsCPbMR",
      "include_colab_link": true
    },
    "kernelspec": {
      "name": "python3",
      "display_name": "Python 3"
    },
    "language_info": {
      "name": "python"
    }
  },
  "cells": [
    {
      "cell_type": "markdown",
      "metadata": {
        "id": "view-in-github",
        "colab_type": "text"
      },
      "source": [
        "<a href=\"https://colab.research.google.com/github/andihariandi4232401054/Pemograman-Dasar/blob/main/Latihan_Pertemuan_3.ipynb\" target=\"_parent\"><img src=\"https://colab.research.google.com/assets/colab-badge.svg\" alt=\"Open In Colab\"/></a>"
      ]
    },
    {
      "cell_type": "code",
      "source": [
        "tahun = int(input(\"Masukkan tahun: \"))\n",
        "\n",
        "print((f\"{tahun} adalah tahun kabisat.\") * (((tahun % 4 == 0 and tahun % 100 != 0) or (tahun % 400 == 0)))\n",
        "or f\"{tahun} bukan tahun kabisat.\")\n"
      ],
      "metadata": {
        "colab": {
          "base_uri": "https://localhost:8080/"
        },
        "id": "7aMOGaYbottx",
        "outputId": "1a2d96e4-7876-4169-93e4-66a9897b6945"
      },
      "execution_count": null,
      "outputs": [
        {
          "output_type": "stream",
          "name": "stdout",
          "text": [
            "Masukkan tahun: 2027\n",
            "2027 bukan tahun kabisat.\n"
          ]
        }
      ]
    }
  ]
}