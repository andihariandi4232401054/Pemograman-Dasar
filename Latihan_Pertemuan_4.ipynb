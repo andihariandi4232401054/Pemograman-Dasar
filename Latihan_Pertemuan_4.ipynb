{
  "nbformat": 4,
  "nbformat_minor": 0,
  "metadata": {
    "colab": {
      "provenance": [],
      "authorship_tag": "ABX9TyMtBJRCdjufG0OtEOYwAzH9",
      "include_colab_link": true
    },
    "kernelspec": {
      "name": "python3",
      "display_name": "Python 3"
    },
    "language_info": {
      "name": "python"
    }
  },
  "cells": [
    {
      "cell_type": "markdown",
      "metadata": {
        "id": "view-in-github",
        "colab_type": "text"
      },
      "source": [
        "<a href=\"https://colab.research.google.com/github/andihariandi4232401054/Pemograman-Dasar/blob/main/Latihan_Pertemuan_4.ipynb\" target=\"_parent\"><img src=\"https://colab.research.google.com/assets/colab-badge.svg\" alt=\"Open In Colab\"/></a>"
      ]
    },
    {
      "cell_type": "code",
      "execution_count": 2,
      "metadata": {
        "colab": {
          "base_uri": "https://localhost:8080/"
        },
        "id": "moam3IVmaUco",
        "outputId": "896a013a-a5c0-4765-b148-ae3da71f0d33"
      },
      "outputs": [
        {
          "output_type": "stream",
          "name": "stdout",
          "text": [
            "Masukkan angka: 500\n",
            "Kelipatan 5\n"
          ]
        }
      ],
      "source": [
        "# 1. Cek kelipatan 5\n",
        "\n",
        "n = int(input(\"Masukkan angka: \"))\n",
        "if n % 5 == 0:\n",
        "    print(\"Kelipatan 5\")\n",
        "else:\n",
        "    print(\"Bukan kelipatan 5\")"
      ]
    },
    {
      "cell_type": "code",
      "source": [
        "# 2. Cek tahun kabisat\n",
        "\n",
        "tahun = int(input(\"Masukkan tahun: \"))\n",
        "if tahun % 400 == 0:\n",
        "    print(\"Tahun kabisat\")\n",
        "elif tahun % 100 == 0:\n",
        "    print(\"Bukan kabisat\")\n",
        "elif tahun % 4 == 0:\n",
        "    print(\"Tahun kabisat\")\n",
        "else:\n",
        "    print(\"Bukan kabisat\")"
      ],
      "metadata": {
        "colab": {
          "base_uri": "https://localhost:8080/"
        },
        "id": "msBvKzxEaxqM",
        "outputId": "cc7da050-009f-4576-9391-957f787b4d72"
      },
      "execution_count": 4,
      "outputs": [
        {
          "output_type": "stream",
          "name": "stdout",
          "text": [
            "Masukkan tahun: 2030\n",
            "Bukan kabisat\n"
          ]
        }
      ]
    },
    {
      "cell_type": "code",
      "source": [
        "# 3. Cek segitiga dan tipe\n",
        "\n",
        "a, b, c = map(float, input(\"Masukkan tiga sisi (pisah spasi): \").split())\n",
        "\n",
        "# Cek ketidak samaan segitiga\n",
        "\n",
        "if a + b > c and a + c > b and b + c > a:\n",
        "    if a == b == c:\n",
        "        print(\"Segitiga sama sisi\")\n",
        "    elif a == b or b == c or a == c:\n",
        "        print(\"Segitiga sama kaki\")\n",
        "    else:\n",
        "        print(\"Segitiga sembarang\")\n",
        "else:\n",
        "    print(\"Bukan segitiga (salah satu ketentuan segitiga tidak terpenuhi)\")"
      ],
      "metadata": {
        "colab": {
          "base_uri": "https://localhost:8080/"
        },
        "id": "TMVi9w9caya7",
        "outputId": "dd21737b-f63e-4b10-f63f-4f88ee91bccb"
      },
      "execution_count": 6,
      "outputs": [
        {
          "output_type": "stream",
          "name": "stdout",
          "text": [
            "Masukkan tiga sisi (pisah spasi): 3 3 3\n",
            "Segitiga sama sisi\n"
          ]
        }
      ]
    },
    {
      "cell_type": "code",
      "source": [
        "# 4. Tampilkan nama bulan dari angka 1-12\n",
        "\n",
        "bulan = int(input(\"Masukkan nomor bulan (1-12): \"))\n",
        "nama = {\n",
        "    1:\"Januari\", 2:\"Februari\", 3:\"Maret\", 4:\"April\",\n",
        "    5:\"Mei\", 6:\"Juni\", 7:\"Juli\", 8:\"Agustus\",\n",
        "    9:\"September\", 10:\"Oktober\", 11:\"November\", 12:\"Desember\"\n",
        "}\n",
        "if 1 <= bulan <= 12:\n",
        "    print(nama[bulan])\n",
        "else:\n",
        "    print(\"Input salah\")"
      ],
      "metadata": {
        "colab": {
          "base_uri": "https://localhost:8080/"
        },
        "id": "ejmnTwQkay-b",
        "outputId": "932c807a-5e07-4309-ccbf-e6d850e35069"
      },
      "execution_count": 7,
      "outputs": [
        {
          "output_type": "stream",
          "name": "stdout",
          "text": [
            "Masukkan nomor bulan (1-12): 8\n",
            "Agustus\n"
          ]
        }
      ]
    },
    {
      "cell_type": "code",
      "source": [
        "# 5. Salam berdasarkan jam\n",
        "\n",
        "jam = int(input(\"Masukkan jam (0-23): \"))\n",
        "\n",
        "if 0 <= jam <= 11:\n",
        "    print(\"Selamat Pagi\")\n",
        "elif 12 <= jam <= 15:\n",
        "    print(\"Selamat Siang\")\n",
        "elif 16 <= jam <= 18:\n",
        "    print(\"Selamat Sore\")\n",
        "elif 19 <= jam <= 23:\n",
        "    print(\"Selamat Malam\")\n",
        "else:\n",
        "    print(\"Jam tidak valid\")"
      ],
      "metadata": {
        "colab": {
          "base_uri": "https://localhost:8080/"
        },
        "id": "Zfs1RyXJazo8",
        "outputId": "b7f1ceb8-5f0f-4c93-8517-ccda7de8e7f1"
      },
      "execution_count": 8,
      "outputs": [
        {
          "output_type": "stream",
          "name": "stdout",
          "text": [
            "Masukkan jam (0-23): 13\n",
            "Selamat Siang\n"
          ]
        }
      ]
    }
  ]
}