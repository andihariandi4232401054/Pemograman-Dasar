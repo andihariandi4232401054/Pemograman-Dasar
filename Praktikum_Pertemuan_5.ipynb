{
  "nbformat": 4,
  "nbformat_minor": 0,
  "metadata": {
    "colab": {
      "provenance": [],
      "authorship_tag": "ABX9TyNBLBVZ69vrlTcuaTmy5vgc",
      "include_colab_link": true
    },
    "kernelspec": {
      "name": "python3",
      "display_name": "Python 3"
    },
    "language_info": {
      "name": "python"
    }
  },
  "cells": [
    {
      "cell_type": "markdown",
      "metadata": {
        "id": "view-in-github",
        "colab_type": "text"
      },
      "source": [
        "<a href=\"https://colab.research.google.com/github/andihariandi4232401054/Pemograman-Dasar/blob/main/Praktikum_Pertemuan_5.ipynb\" target=\"_parent\"><img src=\"https://colab.research.google.com/assets/colab-badge.svg\" alt=\"Open In Colab\"/></a>"
      ]
    },
    {
      "cell_type": "code",
      "execution_count": null,
      "metadata": {
        "colab": {
          "base_uri": "https://localhost:8080/"
        },
        "id": "cdPwZ9qydaYd",
        "outputId": "63573e62-c16b-47b1-fafa-1504a159aab0"
      },
      "outputs": [
        {
          "output_type": "stream",
          "name": "stdout",
          "text": [
            "--- Soal 1 ---\n",
            "1\n",
            "3\n",
            "5\n",
            "7\n",
            "9\n"
          ]
        }
      ],
      "source": [
        "print(\"--- Soal 1 ---\")\n",
        "# Mencetak bilangan ganjil 1 hingga 9\n",
        "for angka in range(1, 10, 2):\n",
        "    print(angka)"
      ]
    },
    {
      "cell_type": "code",
      "source": [
        "print(\"--- Soal 1 ---\")\n",
        "# Mencetak bilangan genap 1 hingga 50\n",
        "for angka in range(2, 51, 2):\n",
        "    print(angka)"
      ],
      "metadata": {
        "colab": {
          "base_uri": "https://localhost:8080/"
        },
        "id": "hp0BLXjmf4Is",
        "outputId": "b469f07b-7d51-40f3-a377-6c82557b3e40"
      },
      "execution_count": null,
      "outputs": [
        {
          "output_type": "stream",
          "name": "stdout",
          "text": [
            "--- Soal 1 ---\n",
            "2\n",
            "4\n",
            "6\n",
            "8\n",
            "10\n",
            "12\n",
            "14\n",
            "16\n",
            "18\n",
            "20\n",
            "22\n",
            "24\n",
            "26\n",
            "28\n",
            "30\n",
            "32\n",
            "34\n",
            "36\n",
            "38\n",
            "40\n",
            "42\n",
            "44\n",
            "46\n",
            "48\n",
            "50\n"
          ]
        }
      ]
    },
    {
      "cell_type": "code",
      "source": [
        "print(\"--- Soal 2 ---\")\n",
        "kode_berhenti = 99\n",
        "input_pengguna = 0 # Inisialisasi awal\n",
        "\n",
        "while input_pengguna != kode_berhenti:\n",
        "    try:\n",
        "        input_pengguna = int(input(\"Masukkan angka (99 untuk berhenti): \"))\n",
        "    except ValueError:\n",
        "        print(\"Input tidak valid. Harap masukkan angka.\")\n",
        "\n",
        "print(\"Perulangan telah dihentikan oleh sentinel (99).\")\n"
      ],
      "metadata": {
        "colab": {
          "base_uri": "https://localhost:8080/"
        },
        "id": "iZl2M0Foee4L",
        "outputId": "dcb66e07-b5de-450a-b474-72e8e05e20aa"
      },
      "execution_count": null,
      "outputs": [
        {
          "output_type": "stream",
          "name": "stdout",
          "text": [
            "--- Soal 2 ---\n",
            "Masukkan angka (99 untuk berhenti): 35\n",
            "Masukkan angka (99 untuk berhenti): 34\n",
            "Masukkan angka (99 untuk berhenti): 99\n",
            "Perulangan telah dihentikan oleh sentinel (99).\n"
          ]
        }
      ]
    },
    {
      "cell_type": "code",
      "source": [],
      "metadata": {
        "id": "Rn3QzIgQhyad"
      },
      "execution_count": null,
      "outputs": []
    },
    {
      "cell_type": "code",
      "source": [
        "print(\"--- Soal 2 ---\")\n",
        "kode_berhenti = 4232401054\n",
        "input_pengguna = 0 # Inisialisasi awal\n",
        "\n",
        "while input_pengguna != kode_berhenti:\n",
        "    try:\n",
        "        input_pengguna = int(input(\"Masukkan (NIM 4232401054) untuk berhenti: \"))\n",
        "    except ValueError:\n",
        "        print(\"Input tidak valid. Harap masukkan NIM.\")\n",
        "\n",
        "print(\"Perulangan telah dihentikan oleh sentinel (4232401054).\")\n"
      ],
      "metadata": {
        "colab": {
          "base_uri": "https://localhost:8080/"
        },
        "outputId": "6e7f78e5-ff3e-43be-f0d3-f988df498ecf",
        "id": "UIxqejPrhzNJ"
      },
      "execution_count": null,
      "outputs": [
        {
          "output_type": "stream",
          "name": "stdout",
          "text": [
            "--- Soal 2 ---\n",
            "Masukkan (NIM 4232401054) untuk berhenti: 4232401052\n",
            "Masukkan (NIM 4232401054) untuk berhenti: 4232401053\n",
            "Masukkan (NIM 4232401054) untuk berhenti: 4232401054\n",
            "Perulangan telah dihentikan oleh sentinel (4232401054).\n"
          ]
        }
      ]
    },
    {
      "cell_type": "code",
      "source": [
        "print(\"--- Soal 3 ---\")\n",
        "harga_barang = [15000, 25000, 10000, 5000]\n",
        "total_belanja = 0\n",
        "\n",
        "for harga in (harga_barang):\n",
        "    total_belanja += harga\n",
        "\n",
        "print(\"Total biaya belanja adalah:\", total_belanja)"
      ],
      "metadata": {
        "colab": {
          "base_uri": "https://localhost:8080/"
        },
        "id": "8MfIyzXuikcE",
        "outputId": "277e4157-41ef-4b22-a2a3-babd0fbcd8e7"
      },
      "execution_count": null,
      "outputs": [
        {
          "output_type": "stream",
          "name": "stdout",
          "text": [
            "--- Soal 3 ---\n",
            "Total biaya belanja adalah: 55000\n"
          ]
        }
      ]
    },
    {
      "cell_type": "code",
      "source": [
        "print(\"--- Soal 3 ---\")\n",
        "harga_barang = [15000, 25000, 10000, 5000, 7000, 2500, 13000, 12500, 20000, 14200]\n",
        "total_belanja = 0\n",
        "\n",
        "for harga in (harga_barang):\n",
        "    total_belanja += harga\n",
        "\n",
        "print(\"Total biaya belanja adalah:\", total_belanja)"
      ],
      "metadata": {
        "colab": {
          "base_uri": "https://localhost:8080/"
        },
        "id": "INkAZKhwjcEL",
        "outputId": "238cddef-e070-4b41-fe15-b073553cf04c"
      },
      "execution_count": null,
      "outputs": [
        {
          "output_type": "stream",
          "name": "stdout",
          "text": [
            "--- Soal 3 ---\n",
            "Total biaya belanja adalah: 124200\n"
          ]
        }
      ]
    },
    {
      "cell_type": "code",
      "source": [
        "print(\"--- Soal 4 ---\")\n",
        "password_benar = \"apaaja\"\n",
        "percobaan_maksimal = 3\n",
        "percobaan_saat_ini = 1\n",
        "\n",
        "while percobaan_saat_ini <= percobaan_maksimal:\n",
        "    password = input(f\"Percobaan ke-{percobaan_saat_ini}. Masukkan Password: \")\n",
        "    if password == password_benar:\n",
        "        print(\"Akses diterima.\")\n",
        "        break\n",
        "    percobaan_saat_ini += 1\n",
        "\n",
        "if percobaan_saat_ini == percobaan_maksimal + 1:\n",
        "    print(\"Kesempatan habis.\")\n",
        "else:\n",
        "    print(\"Akses diterima.\")"
      ],
      "metadata": {
        "colab": {
          "base_uri": "https://localhost:8080/"
        },
        "id": "tUCtozjFkW_z",
        "outputId": "351c116d-100d-4861-f8a0-2699865953e2"
      },
      "execution_count": 2,
      "outputs": [
        {
          "output_type": "stream",
          "name": "stdout",
          "text": [
            "--- Soal 4 ---\n",
            "Percobaan ke-1. Masukkan Password: tes\n",
            "Percobaan ke-2. Masukkan Password: tes 2\n",
            "Percobaan ke-3. Masukkan Password: apaaja\n",
            "Akses diterima.\n",
            "Akses diterima.\n"
          ]
        }
      ]
    },
    {
      "cell_type": "code",
      "source": [
        "print(\"--- Soal 5 ---\")\n",
        "nama_proyek = \"PRAKTIKUM\"\n",
        "hasil_output = \"\"\n",
        "\n",
        "for karakter in (nama_proyek):\n",
        "    hasil_output += karakter + \"-\"\n",
        "\n",
        "print(hasil_output) # Output: P-R-A-K-T-I-K-U-M-"
      ],
      "metadata": {
        "colab": {
          "base_uri": "https://localhost:8080/"
        },
        "id": "9c5jXZGvm88z",
        "outputId": "b64919c1-9e7e-4325-d5e6-3a320cf7ae09"
      },
      "execution_count": null,
      "outputs": [
        {
          "output_type": "stream",
          "name": "stdout",
          "text": [
            "--- Soal 5 ---\n",
            "P-R-A-K-T-I-K-U-M-\n"
          ]
        }
      ]
    },
    {
      "cell_type": "code",
      "source": [
        "print(\"--- Soal 5 ---\")\n",
        "nama_proyek = \"POLITEKNIK NEGERI BATAM\"\n",
        "hasil_output = \"\"\n",
        "\n",
        "for karakter in (nama_proyek):\n",
        "    hasil_output += karakter + \"-\"\n",
        "\n",
        "print(hasil_output)"
      ],
      "metadata": {
        "colab": {
          "base_uri": "https://localhost:8080/"
        },
        "outputId": "15279dfc-17bb-4182-b6f7-badc9021d13d",
        "id": "FljQ2NUGnYy7"
      },
      "execution_count": null,
      "outputs": [
        {
          "output_type": "stream",
          "name": "stdout",
          "text": [
            "--- Soal 5 ---\n",
            "P-O-L-I-T-E-K-N-I-K- -N-E-G-E-R-I- -B-A-T-A-M-\n"
          ]
        }
      ]
    },
    {
      "cell_type": "code",
      "source": [
        "print(\"--- Soal 6 ---\")\n",
        "# Countdown dari 5 ke 1\n",
        "for i in range(5, 0, -1):\n",
        "    print(i)"
      ],
      "metadata": {
        "colab": {
          "base_uri": "https://localhost:8080/"
        },
        "id": "sLgD6REbnv5j",
        "outputId": "74fa3742-4bcc-47a3-b8fd-bfb7f14d123a"
      },
      "execution_count": null,
      "outputs": [
        {
          "output_type": "stream",
          "name": "stdout",
          "text": [
            "--- Soal 6 ---\n",
            "5\n",
            "4\n",
            "3\n",
            "2\n",
            "1\n"
          ]
        }
      ]
    },
    {
      "cell_type": "code",
      "source": [
        "print(\"--- Soal 6 ---\")\n",
        "# Countdown dari 5 ke 1\n",
        "for i in range(255, 0, -1):\n",
        "    print(i)"
      ],
      "metadata": {
        "colab": {
          "base_uri": "https://localhost:8080/"
        },
        "id": "r-pCDLjsoUQz",
        "outputId": "98808a98-655e-44d2-c469-eb7ae6408e3f"
      },
      "execution_count": null,
      "outputs": [
        {
          "output_type": "stream",
          "name": "stdout",
          "text": [
            "--- Soal 6 ---\n",
            "255\n",
            "254\n",
            "253\n",
            "252\n",
            "251\n",
            "250\n",
            "249\n",
            "248\n",
            "247\n",
            "246\n",
            "245\n",
            "244\n",
            "243\n",
            "242\n",
            "241\n",
            "240\n",
            "239\n",
            "238\n",
            "237\n",
            "236\n",
            "235\n",
            "234\n",
            "233\n",
            "232\n",
            "231\n",
            "230\n",
            "229\n",
            "228\n",
            "227\n",
            "226\n",
            "225\n",
            "224\n",
            "223\n",
            "222\n",
            "221\n",
            "220\n",
            "219\n",
            "218\n",
            "217\n",
            "216\n",
            "215\n",
            "214\n",
            "213\n",
            "212\n",
            "211\n",
            "210\n",
            "209\n",
            "208\n",
            "207\n",
            "206\n",
            "205\n",
            "204\n",
            "203\n",
            "202\n",
            "201\n",
            "200\n",
            "199\n",
            "198\n",
            "197\n",
            "196\n",
            "195\n",
            "194\n",
            "193\n",
            "192\n",
            "191\n",
            "190\n",
            "189\n",
            "188\n",
            "187\n",
            "186\n",
            "185\n",
            "184\n",
            "183\n",
            "182\n",
            "181\n",
            "180\n",
            "179\n",
            "178\n",
            "177\n",
            "176\n",
            "175\n",
            "174\n",
            "173\n",
            "172\n",
            "171\n",
            "170\n",
            "169\n",
            "168\n",
            "167\n",
            "166\n",
            "165\n",
            "164\n",
            "163\n",
            "162\n",
            "161\n",
            "160\n",
            "159\n",
            "158\n",
            "157\n",
            "156\n",
            "155\n",
            "154\n",
            "153\n",
            "152\n",
            "151\n",
            "150\n",
            "149\n",
            "148\n",
            "147\n",
            "146\n",
            "145\n",
            "144\n",
            "143\n",
            "142\n",
            "141\n",
            "140\n",
            "139\n",
            "138\n",
            "137\n",
            "136\n",
            "135\n",
            "134\n",
            "133\n",
            "132\n",
            "131\n",
            "130\n",
            "129\n",
            "128\n",
            "127\n",
            "126\n",
            "125\n",
            "124\n",
            "123\n",
            "122\n",
            "121\n",
            "120\n",
            "119\n",
            "118\n",
            "117\n",
            "116\n",
            "115\n",
            "114\n",
            "113\n",
            "112\n",
            "111\n",
            "110\n",
            "109\n",
            "108\n",
            "107\n",
            "106\n",
            "105\n",
            "104\n",
            "103\n",
            "102\n",
            "101\n",
            "100\n",
            "99\n",
            "98\n",
            "97\n",
            "96\n",
            "95\n",
            "94\n",
            "93\n",
            "92\n",
            "91\n",
            "90\n",
            "89\n",
            "88\n",
            "87\n",
            "86\n",
            "85\n",
            "84\n",
            "83\n",
            "82\n",
            "81\n",
            "80\n",
            "79\n",
            "78\n",
            "77\n",
            "76\n",
            "75\n",
            "74\n",
            "73\n",
            "72\n",
            "71\n",
            "70\n",
            "69\n",
            "68\n",
            "67\n",
            "66\n",
            "65\n",
            "64\n",
            "63\n",
            "62\n",
            "61\n",
            "60\n",
            "59\n",
            "58\n",
            "57\n",
            "56\n",
            "55\n",
            "54\n",
            "53\n",
            "52\n",
            "51\n",
            "50\n",
            "49\n",
            "48\n",
            "47\n",
            "46\n",
            "45\n",
            "44\n",
            "43\n",
            "42\n",
            "41\n",
            "40\n",
            "39\n",
            "38\n",
            "37\n",
            "36\n",
            "35\n",
            "34\n",
            "33\n",
            "32\n",
            "31\n",
            "30\n",
            "29\n",
            "28\n",
            "27\n",
            "26\n",
            "25\n",
            "24\n",
            "23\n",
            "22\n",
            "21\n",
            "20\n",
            "19\n",
            "18\n",
            "17\n",
            "16\n",
            "15\n",
            "14\n",
            "13\n",
            "12\n",
            "11\n",
            "10\n",
            "9\n",
            "8\n",
            "7\n",
            "6\n",
            "5\n",
            "4\n",
            "3\n",
            "2\n",
            "1\n"
          ]
        }
      ]
    },
    {
      "cell_type": "code",
      "source": [
        "print(\"--- Soal 7 ---\")\n",
        "bulan = [\"Januari\", \"Februari\", \"Maret\", \"April\"]\n",
        "\n",
        "for i, nama in enumerate (bulan):\n",
        "    # i adalah indeks, nama adalah elemen\n",
        "    print(f\"Bulan ke-{i + 1}: {nama}\")"
      ],
      "metadata": {
        "colab": {
          "base_uri": "https://localhost:8080/"
        },
        "id": "-ovm08WzognT",
        "outputId": "5e65baff-a394-4f34-8cfe-ca00757a3a96"
      },
      "execution_count": null,
      "outputs": [
        {
          "output_type": "stream",
          "name": "stdout",
          "text": [
            "--- Soal 7 ---\n",
            "Bulan ke-1: Januari\n",
            "Bulan ke-2: Februari\n",
            "Bulan ke-3: Maret\n",
            "Bulan ke-4: April\n"
          ]
        }
      ]
    },
    {
      "cell_type": "code",
      "source": [
        "print(\"--- Soal 7 ---\")\n",
        "Kelurahan_di_Kota_Batam = [\"Sagulung\", \"Sei Lekop\", \"Sei Langkai\", \"Sei Batie\", \"Sagulung Kota\", \"Tembesi\"]\n",
        "\n",
        "for i, nama in enumerate (Kelurahan_di_Kota_Batam):\n",
        "    # i adalah indeks, nama adalah elemen\n",
        "    print(f\"Kelurahan {i + 1}: {nama}\")"
      ],
      "metadata": {
        "colab": {
          "base_uri": "https://localhost:8080/"
        },
        "id": "j9dVYks_qfZa",
        "outputId": "e15568fb-3c4d-43c3-db6c-64012cbadac2"
      },
      "execution_count": 4,
      "outputs": [
        {
          "output_type": "stream",
          "name": "stdout",
          "text": [
            "--- Soal 7 ---\n",
            "Kelurahan 1: Sagulung\n",
            "Kelurahan 2: Sei Lekop\n",
            "Kelurahan 3: Sei Langkai\n",
            "Kelurahan 4: Sei Batie\n",
            "Kelurahan 5: Sagulung Kota\n",
            "Kelurahan 6: Tembesi\n"
          ]
        }
      ]
    },
    {
      "cell_type": "code",
      "source": [
        "print(\"--- Soal 8 ---\")\n",
        "data_angka = [10, 20, 30, -1, 50, 60]\n",
        "\n",
        "for angka in data_angka:\n",
        "    if angka <0:\n",
        "        print(\"Angka negatif ditemukan:\", angka)\n",
        "        break\n",
        "    print(angka)\n",
        "\n",
        "print(\"Program berhenti karena angka -1 ditemukan.\")"
      ],
      "metadata": {
        "colab": {
          "base_uri": "https://localhost:8080/"
        },
        "id": "HyyQ8Dx8rouj",
        "outputId": "3b59258d-cc89-4c80-c23d-60d236c9071b"
      },
      "execution_count": null,
      "outputs": [
        {
          "output_type": "stream",
          "name": "stdout",
          "text": [
            "--- Soal 8 ---\n",
            "10\n",
            "20\n",
            "30\n",
            "Angka negatif ditemukan: -1\n",
            "Program berhenti karena angka -1 ditemukan.\n"
          ]
        }
      ]
    },
    {
      "cell_type": "code",
      "source": [
        "print(\"--- Soal 8 ---\")\n",
        "data_angka = [10, 20, 30, 0, 50, 60]\n",
        "\n",
        "for angka in data_angka:\n",
        "    if angka <1:\n",
        "        print(\"Angka negatif ditemukan:\", angka)\n",
        "        break\n",
        "    print(angka)\n",
        "\n",
        "print(\"Program berhenti karena angka 0 ditemukan.\")"
      ],
      "metadata": {
        "colab": {
          "base_uri": "https://localhost:8080/"
        },
        "id": "WGWuFYFwswYk",
        "outputId": "23ee7ed0-6cb8-4435-cd43-c360a362ee81"
      },
      "execution_count": null,
      "outputs": [
        {
          "output_type": "stream",
          "name": "stdout",
          "text": [
            "--- Soal 8 ---\n",
            "10\n",
            "20\n",
            "30\n",
            "Angka negatif ditemukan: 0\n",
            "Program berhenti karena angka 0 ditemukan.\n"
          ]
        }
      ]
    },
    {
      "cell_type": "code",
      "source": [
        "print(\"--- Soal 9 ---\")\n",
        "total = 0\n",
        "bilangan = 1\n",
        "batas = 20\n",
        "\n",
        "while total <= batas:\n",
        "    total += bilangan\n",
        "    bilangan += 1\n",
        "\n",
        "print(\"Total terakhir:\", total)"
      ],
      "metadata": {
        "colab": {
          "base_uri": "https://localhost:8080/"
        },
        "id": "qoS3Gbobs-kb",
        "outputId": "95736756-99b8-4c3f-a746-9351435f6924"
      },
      "execution_count": null,
      "outputs": [
        {
          "output_type": "stream",
          "name": "stdout",
          "text": [
            "--- Soal 9 ---\n",
            "Total terakhir: 21\n"
          ]
        }
      ]
    },
    {
      "cell_type": "code",
      "source": [
        "print(\"--- Soal 10 ---\")\n",
        "jumlah_baris = 3\n",
        "\n",
        "for baris in range(jumlah_baris):\n",
        "    baris_teks = \"\"\n",
        "    for x in range(0, 1):\n",
        "        baris_teks += \"Python \"\n",
        "    print(baris_teks)\n",
        "\n",
        "# Output:\n",
        "# Python\n",
        "# Python\n",
        "# Python"
      ],
      "metadata": {
        "colab": {
          "base_uri": "https://localhost:8080/"
        },
        "id": "R9WD4CATtx5T",
        "outputId": "05c2298c-62c8-4913-e1cb-a545fc1aaa2a"
      },
      "execution_count": null,
      "outputs": [
        {
          "output_type": "stream",
          "name": "stdout",
          "text": [
            "--- Soal 10 ---\n",
            "Python \n",
            "Python \n",
            "Python \n"
          ]
        }
      ]
    }
  ]
}