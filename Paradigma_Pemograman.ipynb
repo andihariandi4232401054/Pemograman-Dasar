{
  "nbformat": 4,
  "nbformat_minor": 0,
  "metadata": {
    "colab": {
      "provenance": [],
      "authorship_tag": "ABX9TyNmd+Yo3JBaLw18dF8URvNO",
      "include_colab_link": true
    },
    "kernelspec": {
      "name": "python3",
      "display_name": "Python 3"
    },
    "language_info": {
      "name": "python"
    }
  },
  "cells": [
    {
      "cell_type": "markdown",
      "metadata": {
        "id": "view-in-github",
        "colab_type": "text"
      },
      "source": [
        "<a href=\"https://colab.research.google.com/github/andihariandi4232401054/Pemograman-Dasar/blob/main/Paradigma_Pemograman.ipynb\" target=\"_parent\"><img src=\"https://colab.research.google.com/assets/colab-badge.svg\" alt=\"Open In Colab\"/></a>"
      ]
    },
    {
      "cell_type": "code",
      "execution_count": 68,
      "metadata": {
        "colab": {
          "base_uri": "https://localhost:8080/"
        },
        "id": "9zbzOPrvTv8A",
        "outputId": "e1e422c2-42a3-478e-b395-907f277b8647"
      },
      "outputs": [
        {
          "output_type": "stream",
          "name": "stdout",
          "text": [
            "halo, nama saya Andi Hariandi\n"
          ]
        }
      ],
      "source": [
        "# formatted_string\n",
        "\n",
        "name = \"Andi Hariandi\"\n",
        "print(f\"halo, nama saya {name}\")\n",
        "\n",
        "\n",
        "\n"
      ]
    },
    {
      "cell_type": "code",
      "source": [
        "# %-formatting\n",
        "\n",
        "name = \"Andi Hariandi\"\n",
        "print(\"Nama saya %s\" % (name))"
      ],
      "metadata": {
        "colab": {
          "base_uri": "https://localhost:8080/"
        },
        "id": "czWWxBtpfz7F",
        "outputId": "bf4583c7-711c-49f4-f956-9dd125ddfe2c"
      },
      "execution_count": 69,
      "outputs": [
        {
          "output_type": "stream",
          "name": "stdout",
          "text": [
            "Nama saya Andi Hariandi\n"
          ]
        }
      ]
    },
    {
      "cell_type": "code",
      "source": [
        "# str.format()\n",
        "\n",
        "name = \"Andi Hariandi\"\n",
        "print(\"Nama saya {}\". format(name))"
      ],
      "metadata": {
        "colab": {
          "base_uri": "https://localhost:8080/"
        },
        "id": "txq-g9s8gSID",
        "outputId": "55a0a08e-40df-4e9c-cd64-810cff4fe51c"
      },
      "execution_count": 70,
      "outputs": [
        {
          "output_type": "stream",
          "name": "stdout",
          "text": [
            "Nama saya Andi Hariandi\n"
          ]
        }
      ]
    },
    {
      "cell_type": "code",
      "source": [
        "# str.format()_2\n",
        "\n",
        "nama = \"Andi\"\n",
        "print(\"Nama saya:\", nama)"
      ],
      "metadata": {
        "colab": {
          "base_uri": "https://localhost:8080/"
        },
        "id": "oYSX6DsdgopZ",
        "outputId": "51831b8a-fe67-4158-cd4c-72cd4f86e459"
      },
      "execution_count": 71,
      "outputs": [
        {
          "output_type": "stream",
          "name": "stdout",
          "text": [
            "Nama saya: Andi\n"
          ]
        }
      ]
    },
    {
      "cell_type": "code",
      "source": [
        "# dynamic_typing\n",
        "\n",
        "age = 20\n",
        "salary = 5000000.0\n",
        "\n",
        "print(type(age))\n",
        "print(type(salary))\n"
      ],
      "metadata": {
        "colab": {
          "base_uri": "https://localhost:8080/"
        },
        "id": "_Q1aSOerZ7X-",
        "outputId": "89c629de-e832-4829-8e77-839234ea1cad"
      },
      "execution_count": 72,
      "outputs": [
        {
          "output_type": "stream",
          "name": "stdout",
          "text": [
            "<class 'int'>\n",
            "<class 'float'>\n"
          ]
        }
      ]
    },
    {
      "cell_type": "code",
      "source": [
        "# dynamic_typing_2\n",
        "\n",
        "x = 6\n",
        "print(type(x))\n",
        "\n",
        "x = \"6\"\n",
        "print(type(x))"
      ],
      "metadata": {
        "colab": {
          "base_uri": "https://localhost:8080/"
        },
        "id": "GyZKA1ImaTc3",
        "outputId": "13b1ed51-fc13-457f-8ec7-e7b8931eeaed"
      },
      "execution_count": 73,
      "outputs": [
        {
          "output_type": "stream",
          "name": "stdout",
          "text": [
            "<class 'int'>\n",
            "<class 'str'>\n"
          ]
        }
      ]
    },
    {
      "cell_type": "code",
      "source": [
        "# dynamic_typing_3\n",
        "\n",
        "x = 6\n",
        "print(type(x))\n",
        "\n",
        "x = 6.0\n",
        "print(type(x))\n",
        "\n",
        "x = 1+2j\n",
        "print(type(x))"
      ],
      "metadata": {
        "colab": {
          "base_uri": "https://localhost:8080/"
        },
        "id": "VSnpTmJra36K",
        "outputId": "2bc6937b-7b5f-473f-d65e-240a881593de"
      },
      "execution_count": 74,
      "outputs": [
        {
          "output_type": "stream",
          "name": "stdout",
          "text": [
            "<class 'int'>\n",
            "<class 'float'>\n",
            "<class 'complex'>\n"
          ]
        }
      ]
    },
    {
      "cell_type": "code",
      "source": [
        "# Numbers_Immutable\n",
        "\n",
        "var = 10\n",
        "print(var)\n",
        "print(id(var))\n",
        "var = 11\n",
        "print(var)\n",
        "print(id(var))"
      ],
      "metadata": {
        "colab": {
          "base_uri": "https://localhost:8080/"
        },
        "id": "huVpgbu3bJiL",
        "outputId": "af779942-aea8-4a58-c30e-3e20c02b7b3a"
      },
      "execution_count": 75,
      "outputs": [
        {
          "output_type": "stream",
          "name": "stdout",
          "text": [
            "10\n",
            "11642376\n",
            "11\n",
            "11642408\n"
          ]
        }
      ]
    },
    {
      "cell_type": "code",
      "source": [
        "# Boolean (bool)\n",
        "\n",
        "x = True\n",
        "print(type(x))\n",
        "\n",
        "x = False\n",
        "print(type(x))"
      ],
      "metadata": {
        "colab": {
          "base_uri": "https://localhost:8080/"
        },
        "id": "JUvQKVugb6Lk",
        "outputId": "9d52eb7f-c657-462c-a356-e3cd793b3960"
      },
      "execution_count": 76,
      "outputs": [
        {
          "output_type": "stream",
          "name": "stdout",
          "text": [
            "<class 'bool'>\n",
            "<class 'bool'>\n"
          ]
        }
      ]
    },
    {
      "cell_type": "code",
      "source": [
        "# String - Single Line\n",
        "\n",
        "x = 'Polibatam'\n",
        "print(type(x))"
      ],
      "metadata": {
        "colab": {
          "base_uri": "https://localhost:8080/"
        },
        "id": "_rkdRCEucfCY",
        "outputId": "f046b6a8-d63f-4bcc-a5a4-f3c803711198"
      },
      "execution_count": 77,
      "outputs": [
        {
          "output_type": "stream",
          "name": "stdout",
          "text": [
            "<class 'str'>\n"
          ]
        }
      ]
    },
    {
      "cell_type": "code",
      "source": [
        "# String - Multi Line\n",
        "\n",
        "multi_line = \"\"\"Halo!\n",
        "Kapan terakhir kali kita bertemu?\n",
        "Kita bertemu dihari MU juara EPL tahun 2013.\"\"\"\n",
        "print(multi_line)"
      ],
      "metadata": {
        "colab": {
          "base_uri": "https://localhost:8080/"
        },
        "id": "GYcDFNZ0dbA3",
        "outputId": "0ca9d8fb-4572-469f-8304-478e94083854"
      },
      "execution_count": 78,
      "outputs": [
        {
          "output_type": "stream",
          "name": "stdout",
          "text": [
            "Halo!\n",
            "Kapan terakhir kali kita bertemu?\n",
            "Kita bertemu dihari MU juara EPL tahun 2013.\n"
          ]
        }
      ]
    },
    {
      "cell_type": "code",
      "source": [
        "# Metode_Indexing\n",
        "\n",
        "x = 'Polibatam'\n",
        "print(x[0])"
      ],
      "metadata": {
        "colab": {
          "base_uri": "https://localhost:8080/"
        },
        "id": "haLccnQEeaRx",
        "outputId": "27ade283-f3a7-47dd-d5b8-67c286b84593"
      },
      "execution_count": 79,
      "outputs": [
        {
          "output_type": "stream",
          "name": "stdout",
          "text": [
            "P\n"
          ]
        }
      ]
    },
    {
      "cell_type": "code",
      "source": [
        "# Metode_Slicing\n",
        "\n",
        "x = 'Polibatam'\n",
        "print(x[2:])"
      ],
      "metadata": {
        "colab": {
          "base_uri": "https://localhost:8080/"
        },
        "id": "vbXLdl_Tew5z",
        "outputId": "c6e1e37f-5e14-4138-d6f9-0d49d61ced02"
      },
      "execution_count": 80,
      "outputs": [
        {
          "output_type": "stream",
          "name": "stdout",
          "text": [
            "libatam\n"
          ]
        }
      ]
    },
    {
      "cell_type": "code",
      "source": [
        "# List\n",
        "\n",
        "x = [1, 2.2, 'Polibatam']\n",
        "print(type(x))"
      ],
      "metadata": {
        "colab": {
          "base_uri": "https://localhost:8080/"
        },
        "id": "zEFY18oPfPBL",
        "outputId": "790f77b9-8c5f-43fa-d81d-e7e3bc9ff1a1"
      },
      "execution_count": 81,
      "outputs": [
        {
          "output_type": "stream",
          "name": "stdout",
          "text": [
            "<class 'list'>\n"
          ]
        }
      ]
    },
    {
      "cell_type": "code",
      "source": [
        "# List_2\n",
        "\n",
        "x = [1, 2.2, 'Dicoding']\n",
        "print(x)"
      ],
      "metadata": {
        "colab": {
          "base_uri": "https://localhost:8080/"
        },
        "id": "SLmBI-YChbet",
        "outputId": "0a25c368-335b-47d2-9c59-14b7e36c0d9e"
      },
      "execution_count": 82,
      "outputs": [
        {
          "output_type": "stream",
          "name": "stdout",
          "text": [
            "[1, 2.2, 'Dicoding']\n"
          ]
        }
      ]
    },
    {
      "cell_type": "code",
      "source": [
        "# Indexing_List\n",
        "\n",
        "x = [1, 'Polibatam', True, 1.0]\n",
        "print(x[2])"
      ],
      "metadata": {
        "colab": {
          "base_uri": "https://localhost:8080/"
        },
        "id": "10giR7_ghquD",
        "outputId": "9ef265c1-d2ae-425c-d98a-d0588ee2d66b"
      },
      "execution_count": 83,
      "outputs": [
        {
          "output_type": "stream",
          "name": "stdout",
          "text": [
            "True\n"
          ]
        }
      ]
    },
    {
      "cell_type": "code",
      "source": [
        "# Mutable_List\n",
        "\n",
        "x = [1, 2.20, 'Manchester United']\n",
        "x[0] = 'Manchester UK'\n",
        "print(x)"
      ],
      "metadata": {
        "colab": {
          "base_uri": "https://localhost:8080/"
        },
        "id": "I6220IlKh9wW",
        "outputId": "2fa410c4-3da0-40c7-9b8e-1c0ac020dfd0"
      },
      "execution_count": 84,
      "outputs": [
        {
          "output_type": "stream",
          "name": "stdout",
          "text": [
            "['Manchester UK', 2.2, 'Manchester United']\n"
          ]
        }
      ]
    },
    {
      "cell_type": "code",
      "source": [
        "# Slicing_List\n",
        "\n",
        "x = [\"laptop\", \"monitor\", \"mouse\", \"mouseoad\", \"keyboard\", \"webcam\", \"microphone\"]\n",
        "print(x[0:5:2])\n",
        "print(x[1:])\n",
        "print(x[:3])"
      ],
      "metadata": {
        "colab": {
          "base_uri": "https://localhost:8080/"
        },
        "id": "CoXRfK_ni671",
        "outputId": "94a22d72-33fe-4787-9046-0c09d2534f63"
      },
      "execution_count": 85,
      "outputs": [
        {
          "output_type": "stream",
          "name": "stdout",
          "text": [
            "['laptop', 'mouse', 'keyboard']\n",
            "['monitor', 'mouse', 'mouseoad', 'keyboard', 'webcam', 'microphone']\n",
            "['laptop', 'monitor', 'mouse']\n"
          ]
        }
      ]
    },
    {
      "cell_type": "code",
      "source": [
        "# Tuple (Elemen tidak bisa diubah)\n",
        "\n",
        "x = (1,  \"Polibatam\", 1+3j)\n",
        "print(type(x))"
      ],
      "metadata": {
        "colab": {
          "base_uri": "https://localhost:8080/"
        },
        "id": "XBV928zHlGS3",
        "outputId": "e855df98-e457-4b19-9e95-7cad9968b95a"
      },
      "execution_count": 86,
      "outputs": [
        {
          "output_type": "stream",
          "name": "stdout",
          "text": [
            "<class 'tuple'>\n"
          ]
        }
      ]
    },
    {
      "cell_type": "code",
      "source": [
        "# Indexing_Tuple\n",
        "\n",
        "x = (5, 'program', 1+3j)\n",
        "print(x[1])\n",
        "print(x[0:3])"
      ],
      "metadata": {
        "colab": {
          "base_uri": "https://localhost:8080/"
        },
        "id": "nmd67b9gmbZk",
        "outputId": "3a8693fc-9be9-4bb1-9139-f4112247a514"
      },
      "execution_count": 87,
      "outputs": [
        {
          "output_type": "stream",
          "name": "stdout",
          "text": [
            "program\n",
            "(5, 'program', (1+3j))\n"
          ]
        }
      ]
    },
    {
      "cell_type": "markdown",
      "source": [],
      "metadata": {
        "id": "v5xG5wauY2fr"
      }
    },
    {
      "cell_type": "code",
      "source": [
        "# Immutable_Tuple\n",
        "\n",
        "x = (5, 'program', 1+3j)\n",
        "x[1] = 'polibatam'"
      ],
      "metadata": {
        "colab": {
          "base_uri": "https://localhost:8080/",
          "height": 176
        },
        "id": "c0knE2WDm03-",
        "outputId": "ab9facb9-51fa-4ad8-c09d-3f0630ac330f"
      },
      "execution_count": 88,
      "outputs": [
        {
          "output_type": "error",
          "ename": "TypeError",
          "evalue": "'tuple' object does not support item assignment",
          "traceback": [
            "\u001b[0;31m---------------------------------------------------------------------------\u001b[0m",
            "\u001b[0;31mTypeError\u001b[0m                                 Traceback (most recent call last)",
            "\u001b[0;32m/tmp/ipython-input-3928269686.py\u001b[0m in \u001b[0;36m<cell line: 0>\u001b[0;34m()\u001b[0m\n\u001b[1;32m      2\u001b[0m \u001b[0;34m\u001b[0m\u001b[0m\n\u001b[1;32m      3\u001b[0m \u001b[0mx\u001b[0m \u001b[0;34m=\u001b[0m \u001b[0;34m(\u001b[0m\u001b[0;36m5\u001b[0m\u001b[0;34m,\u001b[0m \u001b[0;34m'program'\u001b[0m\u001b[0;34m,\u001b[0m \u001b[0;36m1\u001b[0m\u001b[0;34m+\u001b[0m\u001b[0;36m3j\u001b[0m\u001b[0;34m)\u001b[0m\u001b[0;34m\u001b[0m\u001b[0;34m\u001b[0m\u001b[0m\n\u001b[0;32m----> 4\u001b[0;31m \u001b[0mx\u001b[0m\u001b[0;34m[\u001b[0m\u001b[0;36m1\u001b[0m\u001b[0;34m]\u001b[0m \u001b[0;34m=\u001b[0m \u001b[0;34m'polibatam'\u001b[0m\u001b[0;34m\u001b[0m\u001b[0;34m\u001b[0m\u001b[0m\n\u001b[0m",
            "\u001b[0;31mTypeError\u001b[0m: 'tuple' object does not support item assignment"
          ]
        }
      ]
    },
    {
      "cell_type": "code",
      "source": [
        "# Set\n",
        "\n",
        "x = {1, 2, 7, 2, 3, 13, 3}\n",
        "print(x)\n",
        "print(type(x))"
      ],
      "metadata": {
        "colab": {
          "base_uri": "https://localhost:8080/"
        },
        "id": "-x_pw7AQnakc",
        "outputId": "3921ad3d-03e3-4622-de8d-6aad24d6c849"
      },
      "execution_count": 89,
      "outputs": [
        {
          "output_type": "stream",
          "name": "stdout",
          "text": [
            "{1, 2, 3, 7, 13}\n",
            "<class 'set'>\n"
          ]
        }
      ]
    },
    {
      "cell_type": "code",
      "source": [
        "# Set_2\n",
        "\n",
        "set1 = {1, 2, 3, 4, 5}\n",
        "set2 = {4, 5, 6, 7, 8}\n",
        "\n",
        "union = set1.union(set2)\n",
        "print(\"Union:\", union)\n",
        "\n",
        "intersection = set1.intersection(set2)\n",
        "print(\"Intersection:\", intersection)"
      ],
      "metadata": {
        "colab": {
          "base_uri": "https://localhost:8080/"
        },
        "id": "1-4wWDV3nlLy",
        "outputId": "68ab5f9b-cbac-4a63-904e-acaf939f75e4"
      },
      "execution_count": 91,
      "outputs": [
        {
          "output_type": "stream",
          "name": "stdout",
          "text": [
            "Union: {1, 2, 3, 4, 5, 6, 7, 8}\n",
            "Intersection: {4, 5}\n"
          ]
        }
      ]
    },
    {
      "cell_type": "code",
      "source": [
        "# Dictionary\n",
        "\n",
        "x = { 'name': 'Andi Hariandi', 'age': 20, 'isMarried': False}\n",
        "\n",
        "print(type(x))"
      ],
      "metadata": {
        "colab": {
          "base_uri": "https://localhost:8080/"
        },
        "id": "x3srj8kCn--G",
        "outputId": "83d31003-0673-4716-d9bc-fe00fc57368f"
      },
      "execution_count": 92,
      "outputs": [
        {
          "output_type": "stream",
          "name": "stdout",
          "text": [
            "<class 'dict'>\n"
          ]
        }
      ]
    },
    {
      "cell_type": "code",
      "source": [
        "# Dictionary_2 (no indexing)\n",
        "\n",
        "x = { 'name': 'Andi Hariandi', 'age': 20, 'isMarried': False}\n",
        "\n",
        "print(x[0])"
      ],
      "metadata": {
        "colab": {
          "base_uri": "https://localhost:8080/",
          "height": 176
        },
        "id": "6P_W8S6ypR3K",
        "outputId": "4b777354-1f9d-4794-9573-028d2ba97428"
      },
      "execution_count": 93,
      "outputs": [
        {
          "output_type": "error",
          "ename": "KeyError",
          "evalue": "0",
          "traceback": [
            "\u001b[0;31m---------------------------------------------------------------------------\u001b[0m",
            "\u001b[0;31mKeyError\u001b[0m                                  Traceback (most recent call last)",
            "\u001b[0;32m/tmp/ipython-input-3662291004.py\u001b[0m in \u001b[0;36m<cell line: 0>\u001b[0;34m()\u001b[0m\n\u001b[1;32m      3\u001b[0m \u001b[0mx\u001b[0m \u001b[0;34m=\u001b[0m \u001b[0;34m{\u001b[0m \u001b[0;34m'name'\u001b[0m\u001b[0;34m:\u001b[0m \u001b[0;34m'Andi Hariandi'\u001b[0m\u001b[0;34m,\u001b[0m \u001b[0;34m'age'\u001b[0m\u001b[0;34m:\u001b[0m \u001b[0;36m20\u001b[0m\u001b[0;34m,\u001b[0m \u001b[0;34m'isMarried'\u001b[0m\u001b[0;34m:\u001b[0m \u001b[0;32mFalse\u001b[0m\u001b[0;34m}\u001b[0m\u001b[0;34m\u001b[0m\u001b[0;34m\u001b[0m\u001b[0m\n\u001b[1;32m      4\u001b[0m \u001b[0;34m\u001b[0m\u001b[0m\n\u001b[0;32m----> 5\u001b[0;31m \u001b[0mprint\u001b[0m\u001b[0;34m(\u001b[0m\u001b[0mx\u001b[0m\u001b[0;34m[\u001b[0m\u001b[0;36m0\u001b[0m\u001b[0;34m]\u001b[0m\u001b[0;34m)\u001b[0m\u001b[0;34m\u001b[0m\u001b[0;34m\u001b[0m\u001b[0m\n\u001b[0m",
            "\u001b[0;31mKeyError\u001b[0m: 0"
          ]
        }
      ]
    },
    {
      "cell_type": "code",
      "source": [
        "# Dictionary_3\n",
        "\n",
        "x = { 'name': 'Andi Hariandi', 'age': 20, 'isMarried': False}\n",
        "\n",
        "print(x ['name'])"
      ],
      "metadata": {
        "colab": {
          "base_uri": "https://localhost:8080/"
        },
        "id": "51c3f-9OpiOn",
        "outputId": "c8966691-babb-4e5f-c226-c0f30158c0fb"
      },
      "execution_count": 94,
      "outputs": [
        {
          "output_type": "stream",
          "name": "stdout",
          "text": [
            "Andi Hariandi\n"
          ]
        }
      ]
    },
    {
      "cell_type": "code",
      "source": [
        "# Dictionary_4 (Menambah Data)\n",
        "\n",
        "x = { 'name': 'Andi Hariandi', 'age': 20, 'isMarried': False}\n",
        "x ['Job'] = \"Coaching Staff Manchester United\"\n",
        "\n",
        "print(x)"
      ],
      "metadata": {
        "colab": {
          "base_uri": "https://localhost:8080/"
        },
        "id": "YLIRyu4IpyLO",
        "outputId": "d8d84e1a-75b8-431a-c2cf-bba8b0a040b1"
      },
      "execution_count": 95,
      "outputs": [
        {
          "output_type": "stream",
          "name": "stdout",
          "text": [
            "{'name': 'Andi Hariandi', 'age': 20, 'isMarried': False, 'Job': 'Coaching Staff Manchester United'}\n"
          ]
        }
      ]
    },
    {
      "cell_type": "code",
      "source": [
        "# Dictionary_5 (Menghapus Data)\n",
        "\n",
        "x = { 'name': 'Andi Hariandi', 'age': 20, 'isMarried': False}\n",
        "del x['isMarried']\n",
        "\n",
        "print(x)"
      ],
      "metadata": {
        "colab": {
          "base_uri": "https://localhost:8080/"
        },
        "id": "NtTXUtXaqO1r",
        "outputId": "35831bbc-8e59-4bd6-ac68-6d63731e01cd"
      },
      "execution_count": 96,
      "outputs": [
        {
          "output_type": "stream",
          "name": "stdout",
          "text": [
            "{'name': 'Andi Hariandi', 'age': 20}\n"
          ]
        }
      ]
    },
    {
      "cell_type": "code",
      "source": [
        "# Dictionary_6 (Mengubah Data)\n",
        "\n",
        "x = { 'name': 'Andi Hariandi', 'age': 20, 'isMarried': False}\n",
        "x ['name'] = \"Apin\"\n",
        "\n",
        "print(x)"
      ],
      "metadata": {
        "colab": {
          "base_uri": "https://localhost:8080/"
        },
        "id": "kqi_V13Pqm_P",
        "outputId": "2d8b4641-7335-4c52-c558-22823187cdf9"
      },
      "execution_count": 97,
      "outputs": [
        {
          "output_type": "stream",
          "name": "stdout",
          "text": [
            "{'name': 'Apin', 'age': 20, 'isMarried': False}\n"
          ]
        }
      ]
    },
    {
      "cell_type": "code",
      "source": [
        "nama_buah: list[str] = [\"apel\", \"mangga\"]"
      ],
      "metadata": {
        "id": "d6ag3frpsEg0"
      },
      "execution_count": 98,
      "outputs": []
    }
  ]
}