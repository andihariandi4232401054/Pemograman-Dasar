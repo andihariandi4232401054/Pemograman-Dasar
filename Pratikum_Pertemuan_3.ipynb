{
  "nbformat": 4,
  "nbformat_minor": 0,
  "metadata": {
    "colab": {
      "provenance": [],
      "authorship_tag": "ABX9TyO3VRnAZDji+Pkx6GkcloA4",
      "include_colab_link": true
    },
    "kernelspec": {
      "name": "python3",
      "display_name": "Python 3"
    },
    "language_info": {
      "name": "python"
    }
  },
  "cells": [
    {
      "cell_type": "markdown",
      "metadata": {
        "id": "view-in-github",
        "colab_type": "text"
      },
      "source": [
        "<a href=\"https://colab.research.google.com/github/andihariandi4232401054/Pemograman-Dasar/blob/main/Pratikum_Pertemuan_3.ipynb\" target=\"_parent\"><img src=\"https://colab.research.google.com/assets/colab-badge.svg\" alt=\"Open In Colab\"/></a>"
      ]
    },
    {
      "cell_type": "code",
      "execution_count": null,
      "metadata": {
        "colab": {
          "base_uri": "https://localhost:8080/"
        },
        "id": "sxr7W0tCTkcX",
        "outputId": "95b733b6-c333-4f4d-84f3-248e8f4c887d"
      },
      "outputs": [
        {
          "name": "stdout",
          "output_type": "stream",
          "text": [
            "Berapa porsi makan yang anda beli? : 3\n",
            "Siapa Nama Pelanggan ? : Andi dan Glazer\n"
          ]
        }
      ],
      "source": [
        "total = input(\"Berapa porsi makan yang anda beli? : \")\n",
        "Nama = input(\"Siapa Nama Pelanggan ? : \")\n"
      ]
    },
    {
      "cell_type": "code",
      "source": [
        "total = float(input(\"Berapa porsi makan yang anda beli? : \"))\n",
        "Nama = str(input(\"Siapa Nama Pelanggan? \"))\n"
      ],
      "metadata": {
        "colab": {
          "base_uri": "https://localhost:8080/"
        },
        "id": "qzecDiihW6DE",
        "outputId": "de59e91f-bb42-4caa-967d-14e579c975a8"
      },
      "execution_count": null,
      "outputs": [
        {
          "name": "stdout",
          "output_type": "stream",
          "text": [
            "Berapa porsi makan yang anda beli? : 100.5\n",
            "Siapa Nama Pelanggan? Glazer Maruk\n"
          ]
        }
      ]
    },
    {
      "cell_type": "code",
      "source": [
        "#Fungsi utk menampilkan output\n",
        "\n",
        "food = \"Lasagna\"\n",
        "print(\"Luke sedang memesan\", food)"
      ],
      "metadata": {
        "colab": {
          "base_uri": "https://localhost:8080/"
        },
        "id": "m4YTr9phYqJS",
        "outputId": "5db17f8d-6f74-4388-d210-4f7667fb46bf"
      },
      "execution_count": null,
      "outputs": [
        {
          "output_type": "stream",
          "name": "stdout",
          "text": [
            "Luke sedang memesan Lasagna\n"
          ]
        }
      ]
    },
    {
      "cell_type": "code",
      "source": [
        "#Fungsi utk menampilkan output yg dipisahkan\n",
        "\n",
        "food = \"Teh Obeng\"\n",
        "print(\"Luke sedang memesan\" , food)\n",
        "print(\"Luke sedang memesan \" + food)\n",
        "print(\"Luke sedang memesan %s\" % (food))"
      ],
      "metadata": {
        "colab": {
          "base_uri": "https://localhost:8080/"
        },
        "id": "cRVcvKs7Y96a",
        "outputId": "eb5c65f1-fde4-47f9-849d-5b3d6c0a41dd"
      },
      "execution_count": null,
      "outputs": [
        {
          "output_type": "stream",
          "name": "stdout",
          "text": [
            "Luke sedang memesan Teh Obeng\n",
            "Luke sedang memesan Teh Obeng\n",
            "Luke sedang memesan Teh Obeng\n"
          ]
        }
      ]
    },
    {
      "cell_type": "code",
      "source": [
        "#Kalkulator Sederhana\n",
        "\n",
        "a = 20\n",
        "b = 7\n",
        "print(\"Penjumlahan:\", a + b)\n",
        "print(\"Pengurangan:\", a - b)\n",
        "print(\"Perkalian:\", a * b)\n",
        "print(\"Pembagian:\", a / b)"
      ],
      "metadata": {
        "colab": {
          "base_uri": "https://localhost:8080/"
        },
        "id": "5vZxA49QaDR9",
        "outputId": "e1cd00ce-1b21-4adb-ff91-57592f727805"
      },
      "execution_count": null,
      "outputs": [
        {
          "output_type": "stream",
          "name": "stdout",
          "text": [
            "Penjumlahan: 27\n",
            "Pengurangan: 13\n",
            "Perkalian: 140\n",
            "Pembagian: 2.857142857142857\n"
          ]
        }
      ]
    },
    {
      "cell_type": "code",
      "source": [
        "#Mengecek bilangan\n",
        "\n",
        "bilangan = 8\n",
        "hasil = (bilangan > 0) and (bilangan % 2 == 0)\n",
        "print(\"Genap dan Positif?\", hasil)"
      ],
      "metadata": {
        "colab": {
          "base_uri": "https://localhost:8080/"
        },
        "id": "00SX1WTha6t-",
        "outputId": "19d32aec-bc26-4641-e3b0-0fa6e67cf343"
      },
      "execution_count": null,
      "outputs": [
        {
          "output_type": "stream",
          "name": "stdout",
          "text": [
            "Genap dan Positif? True\n"
          ]
        }
      ]
    },
    {
      "cell_type": "code",
      "source": [
        "#Kalkulator Kasir\n",
        "\n",
        "harga_makan = float(input(\"Berapa harga Nasi Goreng\"))\n",
        "jumlah_makan = int(input(\"Berapa porsi yang anda beli\"))\n",
        "total_makan = harga_makan * jumlah_makan\n",
        "\n",
        "print(f\"harga makan per porsi = {harga_makan}, totalnya adalah {total_makan}\")\n"
      ],
      "metadata": {
        "colab": {
          "base_uri": "https://localhost:8080/"
        },
        "id": "SjGyHZYYbkj5",
        "outputId": "5b9e038c-b3b0-4fbc-e825-94a0de6697b5"
      },
      "execution_count": null,
      "outputs": [
        {
          "output_type": "stream",
          "name": "stdout",
          "text": [
            "Berapa harga Nasi Goreng13000\n",
            "Berapa porsi yang anda beli10\n",
            "harga makan per porsi = 13000.0, totalnya adalah 130000.0\n"
          ]
        }
      ]
    },
    {
      "cell_type": "code",
      "source": [
        "#Konversi waktu\n",
        "\n",
        "total_detik = 3600\n",
        "jam = total_detik // 3600\n",
        "sisa_detik = total_detik % 3600\n",
        "menit = sisa_detik // 6\n",
        "detik = sisa_detik % 60\n",
        "\n",
        "print(f\"Hasil Konversi: {jam} jam, {menit} menit, {detik} detik\")\n",
        "\n",
        "total_detik = int (input(\"total_detik \"))"
      ],
      "metadata": {
        "colab": {
          "base_uri": "https://localhost:8080/"
        },
        "id": "B3tdld0kdBZX",
        "outputId": "e1b49799-03ae-47b6-ff58-aeec9622a7a3"
      },
      "execution_count": 2,
      "outputs": [
        {
          "name": "stdout",
          "output_type": "stream",
          "text": [
            "Hasil Konversi: 1 jam, 0 menit, 0 detik\n",
            "total_detik 358200\n"
          ]
        }
      ]
    },
    {
      "cell_type": "code",
      "source": [
        "#Menghitung nilai\n",
        "\n",
        "tugas = 100\n",
        "uts = 90\n",
        "uas = 85\n",
        "nilai_akhir = (0.3 * tugas) + (0.3 * uts) + (0.4 * uas)\n",
        "print(\"Nilai_akhir =\", nilai_akhir)\n"
      ],
      "metadata": {
        "colab": {
          "base_uri": "https://localhost:8080/"
        },
        "id": "Aj1dHSoNeHfp",
        "outputId": "3a25017f-0232-4600-99af-93e6fa572333"
      },
      "execution_count": null,
      "outputs": [
        {
          "output_type": "stream",
          "name": "stdout",
          "text": [
            "Nilai_akhir = 91.0\n"
          ]
        }
      ]
    },
    {
      "cell_type": "code",
      "source": [
        "#Menghitung Nilai Mahasiswa\n",
        "\n",
        "nilai_mahasiswa = 95.\n",
        "\n",
        "standar_kelulusan = 75\n",
        "\n",
        "apakah_lulus = nilai_mahasiswa >= standar_kelulusan\n",
        "\n",
        "perlu_remedial = nilai_mahasiswa < standar_kelulusan\n",
        "\n",
        "print(f\"Nilai Mahasiswa: {nilai_mahasiswa}\")\n",
        "\n",
        "print(f\"Standar Kelulusan: {standar_kelulusan}\")\n",
        "\n",
        "print(f\"Apakah Mahasiswa Lulus? {apakah_lulus}\")\n",
        "\n",
        "print(f\"Perlu Remedial? {perlu_remedial}\")\n",
        "\n",
        "nilai_mahasiswa = int (input(\"nilai mahasiswa \"))\n",
        "standar_kelulusan = int (input(\"standar Kelulusan \"))"
      ],
      "metadata": {
        "colab": {
          "base_uri": "https://localhost:8080/"
        },
        "id": "So5-4Xjfe12v",
        "outputId": "f07d0f99-e7f3-4df8-f99a-4d6d7d11610d"
      },
      "execution_count": null,
      "outputs": [
        {
          "name": "stdout",
          "output_type": "stream",
          "text": [
            "Nilai Mahasiswa: 95.0\n",
            "Standar Kelulusan: 75\n",
            "Apakah Mahasiswa Lulus? True\n",
            "Perlu Remedial? False\n",
            "nilai mahasiswa 95\n",
            "standar Kelulusan 75\n"
          ]
        }
      ]
    },
    {
      "cell_type": "code",
      "source": [
        "belanja = 1000000\n",
        "diskon = (0, 0.35 * belanja) [belanja > 600000]\n",
        "total_harga = belanja - diskon\n",
        "print(\"Total harga setelah diskon =\", total_harga)"
      ],
      "metadata": {
        "colab": {
          "base_uri": "https://localhost:8080/"
        },
        "id": "yY3t4XK_g7Cq",
        "outputId": "6f8a7beb-c7e8-45aa-d3d8-323274e6277a"
      },
      "execution_count": null,
      "outputs": [
        {
          "output_type": "stream",
          "name": "stdout",
          "text": [
            "Total harga setelah diskon = 650000.0\n"
          ]
        }
      ]
    }
  ]
}