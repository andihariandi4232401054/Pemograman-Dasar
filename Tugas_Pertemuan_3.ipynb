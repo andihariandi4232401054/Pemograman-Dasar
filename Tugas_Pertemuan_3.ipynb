{
  "nbformat": 4,
  "nbformat_minor": 0,
  "metadata": {
    "colab": {
      "provenance": [],
      "authorship_tag": "ABX9TyPRT5SvqAEw/le0cDHVypg0",
      "include_colab_link": true
    },
    "kernelspec": {
      "name": "python3",
      "display_name": "Python 3"
    },
    "language_info": {
      "name": "python"
    }
  },
  "cells": [
    {
      "cell_type": "markdown",
      "metadata": {
        "id": "view-in-github",
        "colab_type": "text"
      },
      "source": [
        "<a href=\"https://colab.research.google.com/github/andihariandi4232401054/Pemograman-Dasar/blob/main/Tugas_Pertemuan_3.ipynb\" target=\"_parent\"><img src=\"https://colab.research.google.com/assets/colab-badge.svg\" alt=\"Open In Colab\"/></a>"
      ]
    },
    {
      "cell_type": "code",
      "execution_count": 1,
      "metadata": {
        "colab": {
          "base_uri": "https://localhost:8080/"
        },
        "id": "UDm_8GTiKLhG",
        "outputId": "121aa45a-73fd-49a3-dd8e-959ef2d6c9ff"
      },
      "outputs": [
        {
          "output_type": "stream",
          "name": "stdout",
          "text": [
            "Harga Barang: Rp. 115000\n",
            "Subtotal: Rp115,000\n",
            "Diskon: Rp17,250\n",
            "Harga setelah diskon: Rp97,750\n",
            "PPN (11%): Rp10,752\n",
            "Total Akhir: Rp108,502\n"
          ]
        }
      ],
      "source": [
        "harga_pembelian = int(input(\"Harga Barang: Rp. \"))\n",
        "is_member = True\n",
        "\n",
        "diskon_faktor = (is_member and harga_pembelian > 100_000) * 0.15\n",
        "diskon = harga_pembelian * diskon_faktor\n",
        "\n",
        "setelah_diskon = harga_pembelian - diskon\n",
        "\n",
        "ppn = setelah_diskon * 0.11\n",
        "\n",
        "total = setelah_diskon + ppn\n",
        "\n",
        "print(f\"Subtotal: Rp{harga_pembelian:,.0f}\")\n",
        "print(f\"Diskon: Rp{diskon:,.0f}\")\n",
        "print(f\"Harga setelah diskon: Rp{setelah_diskon:,.0f}\")\n",
        "print(f\"PPN (11%): Rp{ppn:,.0f}\")\n",
        "print(f\"Total Akhir: Rp{total:,.0f}\")"
      ]
    }
  ]
}