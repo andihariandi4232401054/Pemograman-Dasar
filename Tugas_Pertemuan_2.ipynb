{
  "nbformat": 4,
  "nbformat_minor": 0,
  "metadata": {
    "colab": {
      "provenance": [],
      "authorship_tag": "ABX9TyPfFuuOJooB6nNAzIyHb9gH",
      "include_colab_link": true
    },
    "kernelspec": {
      "name": "python3",
      "display_name": "Python 3"
    },
    "language_info": {
      "name": "python"
    }
  },
  "cells": [
    {
      "cell_type": "markdown",
      "metadata": {
        "id": "view-in-github",
        "colab_type": "text"
      },
      "source": [
        "<a href=\"https://colab.research.google.com/github/andihariandi4232401054/Pemograman-Dasar/blob/main/Tugas_Pertemuan_2.ipynb\" target=\"_parent\"><img src=\"https://colab.research.google.com/assets/colab-badge.svg\" alt=\"Open In Colab\"/></a>"
      ]
    },
    {
      "cell_type": "code",
      "source": [
        "# Buatlah Variabel FirstName, LastName, age, isMarried\n",
        "\n",
        "FirstName = 'Andi'\n",
        "LastName = 'Hariandi'\n",
        "age = 20\n",
        "isMarried = False\n",
        "\n",
        "print(type(FirstName))\n",
        "print(type(LastName))\n",
        "print(type(age))\n",
        "print(type(isMarried))\n",
        "\n",
        "\n"
      ],
      "metadata": {
        "colab": {
          "base_uri": "https://localhost:8080/"
        },
        "id": "L7lB8zwdoj-W",
        "outputId": "00c76d34-4cf9-4f99-ceda-a9a561b1839d"
      },
      "execution_count": 6,
      "outputs": [
        {
          "output_type": "stream",
          "name": "stdout",
          "text": [
            "<class 'str'>\n",
            "<class 'str'>\n",
            "<class 'int'>\n",
            "<class 'bool'>\n"
          ]
        }
      ]
    },
    {
      "cell_type": "code",
      "source": [
        "# Buatlah Variabel Dictionary dengan nama \"data_diri\"\n",
        "\n",
        "data_diri = { 'firstName': 'Andi', 'LastName': 'Hariandi', 'age': 20, 'isMarried': False}\n",
        "\n",
        "print(type(data_diri))"
      ],
      "metadata": {
        "colab": {
          "base_uri": "https://localhost:8080/"
        },
        "id": "CEtPJcw2sSbO",
        "outputId": "5bdcf31d-62f7-40d4-9dd3-69b72ffa5584"
      },
      "execution_count": 7,
      "outputs": [
        {
          "output_type": "stream",
          "name": "stdout",
          "text": [
            "<class 'dict'>\n"
          ]
        }
      ]
    },
    {
      "cell_type": "code",
      "source": [
        "# Buatlah Variabel \"Inspeksi\" bertipe data list untuk menyimpan daftar Inspeksi\n",
        "\n",
        "Inspeksi = [\"pemahaman terhadap rencana dan desain\",\n",
        "            \"ketersediaan bahan dan peralatan\",\n",
        "            \"pengawasan pekerjaan\",\n",
        "            \"kualitas konstruksi\",\n",
        "            \"keselamatan kerja\",\n",
        "            \"koordinasi dengan pemilik proyek\"]\n",
        "\n",
        "for i, item in enumerate(Inspeksi, start=1): print(f\"{i}. {item}\")\n"
      ],
      "metadata": {
        "colab": {
          "base_uri": "https://localhost:8080/"
        },
        "id": "ZjeswIQ0z-RP",
        "outputId": "2865f1cc-b7c3-49a1-d75a-1a298215d88a"
      },
      "execution_count": 9,
      "outputs": [
        {
          "output_type": "stream",
          "name": "stdout",
          "text": [
            "1. pemahaman terhadap rencana dan desain\n",
            "2. ketersediaan bahan dan peralatan\n",
            "3. pengawasan pekerjaan\n",
            "4. kualitas konstruksi\n",
            "5. keselamatan kerja\n",
            "6. koordinasi dengan pemilik proyek\n"
          ]
        }
      ]
    },
    {
      "cell_type": "code",
      "source": [
        "# Buatlah variabel startTime sbg waktu datang dan variabel endTime sbg waktu pulang bertipe data \"dictionary\"\n",
        "\n",
        "startTime = {\"HH\": 9, \"mm\": 23, \"ss\": 57}\n",
        "endTime = {\"HH\": 15, \"mm\": 25, \"ss\": 43}\n",
        "\n",
        "print(\"Waktu datang:\", startTime)\n",
        "print(\"Waktu pulang:\", endTime)\n"
      ],
      "metadata": {
        "colab": {
          "base_uri": "https://localhost:8080/"
        },
        "id": "WUj1YQoV0ygo",
        "outputId": "30c9e272-789e-414a-dec4-a69a72a9e1a6"
      },
      "execution_count": 11,
      "outputs": [
        {
          "output_type": "stream",
          "name": "stdout",
          "text": [
            "Waktu datang: {'HH': 9, 'mm': 23, 'ss': 57}\n",
            "Waktu pulang: {'HH': 15, 'mm': 25, 'ss': 43}\n"
          ]
        }
      ]
    },
    {
      "cell_type": "code",
      "source": [
        "# STUDI KASUS : PENGGABUNGAN DAN ANALISIS KATALOG PRODUK\n",
        "\n",
        "katalog_A = {\"Laptop\", \"Printer\", \"Mouse\", \"Keyboard\"}\n",
        "katalog_B = {\"Monitor\", \"Mouse\", \"Speaker\", \"Printer\"}\n",
        "produk_diskon = (\"Mouse\", \"Keyboard\", \"Speaker\")\n",
        "katalog_lengkap = katalog_A.union(katalog_B)\n",
        "produk_promo_aktif = katalog_lengkap.intersection(set(produk_diskon))\n",
        "\n",
        "print(\"Katalog Lengkap :\", katalog_lengkap)\n",
        "print(\"Produk Promo Aktif :\", produk_promo_aktif)\n"
      ],
      "metadata": {
        "colab": {
          "base_uri": "https://localhost:8080/"
        },
        "id": "aRGJ0lJM2SQH",
        "outputId": "b37ef2db-5c4f-46f3-ffd2-54e8e7962574"
      },
      "execution_count": 12,
      "outputs": [
        {
          "output_type": "stream",
          "name": "stdout",
          "text": [
            "Katalog Lengkap : {'Keyboard', 'Speaker', 'Laptop', 'Monitor', 'Printer', 'Mouse'}\n",
            "Produk Promo Aktif : {'Keyboard', 'Speaker', 'Mouse'}\n"
          ]
        }
      ]
    }
  ]
}