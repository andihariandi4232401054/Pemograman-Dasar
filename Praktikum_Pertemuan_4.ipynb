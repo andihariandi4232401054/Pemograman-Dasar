{
  "nbformat": 4,
  "nbformat_minor": 0,
  "metadata": {
    "colab": {
      "provenance": [],
      "authorship_tag": "ABX9TyOlEPsbEWNPTYxKwz7F192o",
      "include_colab_link": true
    },
    "kernelspec": {
      "name": "python3",
      "display_name": "Python 3"
    },
    "language_info": {
      "name": "python"
    }
  },
  "cells": [
    {
      "cell_type": "markdown",
      "metadata": {
        "id": "view-in-github",
        "colab_type": "text"
      },
      "source": [
        "<a href=\"https://colab.research.google.com/github/andihariandi4232401054/Pemograman-Dasar/blob/main/Praktikum_Pertemuan_4.ipynb\" target=\"_parent\"><img src=\"https://colab.research.google.com/assets/colab-badge.svg\" alt=\"Open In Colab\"/></a>"
      ]
    },
    {
      "cell_type": "code",
      "execution_count": null,
      "metadata": {
        "colab": {
          "base_uri": "https://localhost:8080/"
        },
        "id": "eBV60HcIUNJP",
        "outputId": "fccb703b-c416-400b-d973-1848dac75cfa"
      },
      "outputs": [
        {
          "output_type": "stream",
          "name": "stdout",
          "text": [
            "pengunjung adalah orang dewasa.\n"
          ]
        }
      ],
      "source": [
        "# Contoh Penggunaan IF Tunggal\n",
        "\n",
        "_#Variabel untuk menyimpan umur pengunjung\n",
        "umur: int = 28\n",
        "\n",
        "_# Program hanya akan mencetak pesan jika umur diatas 17\n",
        "if umur > 17:\n",
        "  print(\"pengunjung adalah orang dewasa.\")"
      ]
    },
    {
      "cell_type": "code",
      "source": [
        "# Contoh Penggunaan IF Tunggal_2\n",
        "\n",
        "username = input(\"Masukkan username: \")\n",
        "password = input(\"Masukkan password: \")\n",
        "\n",
        "if username == \"LilJeannn24K\" and password == \"18780109\":\n",
        "  print(\"Login berhasil\")\n",
        "else:\n",
        "  print(\"Login gagal\")"
      ],
      "metadata": {
        "colab": {
          "base_uri": "https://localhost:8080/"
        },
        "id": "qUq5QF-xVvR4",
        "outputId": "109f48e0-373e-4c61-826b-28ebc13b603c"
      },
      "execution_count": null,
      "outputs": [
        {
          "output_type": "stream",
          "name": "stdout",
          "text": [
            "Masukkan username: LilJeannn24K\n",
            "Masukkan password: 18780109\n",
            "Login berhasil\n"
          ]
        }
      ]
    },
    {
      "cell_type": "code",
      "source": [
        "# Program untuk mengecek bonus & diskon\n",
        "total_belanja = input(\"Total belanja: Rp \")\n",
        "bayar = int(total_belanja)\n",
        "if int(total_belanja) > 100000:\n",
        "  print(\"Selamat Karena Belanja > Rp. 100.000 anda mendapat voucher makan\")\n",
        "  print(\"dan diskon 5%\")\n",
        "\n",
        "  diskon = int(total_belanja) * 5/100\n",
        "  bayar = int(total_belanja) - diskon\n",
        "\n",
        "  print(\"total yang harus dibayar: Rp %s\" % bayar)\n",
        "  print(\"terima kasih sudah berbelanja di Toko kami\")\n",
        "  print(\"Kami tunggu kunjungan anda Selanjutnya\")"
      ],
      "metadata": {
        "colab": {
          "base_uri": "https://localhost:8080/"
        },
        "id": "7npgTNm7Wz6d",
        "outputId": "2fbddc2f-13a2-478c-9e56-fdb55dedc111"
      },
      "execution_count": null,
      "outputs": [
        {
          "output_type": "stream",
          "name": "stdout",
          "text": [
            "Total belanja: Rp 250000\n",
            "Selamat Karena Belanja > Rp. 100.000 anda mendapat voucher makan\n",
            "dan diskon 5%\n",
            "total yang harus dibayar: Rp 237500.0\n",
            "terima kasih sudah berbelanja di Toko kami\n",
            "Kami tunggu kunjungan anda Selanjutnya\n"
          ]
        }
      ]
    },
    {
      "cell_type": "code",
      "source": [
        "ada_notifikasi_baru: bool = True\n",
        "\n",
        "if ada_notifikasi_baru:\n",
        "  print(\"Anda memiliki pesan baru!\")"
      ],
      "metadata": {
        "colab": {
          "base_uri": "https://localhost:8080/"
        },
        "id": "H02q95yCZL4X",
        "outputId": "be429713-f10a-44db-a48d-28eccf5937de"
      },
      "execution_count": null,
      "outputs": [
        {
          "output_type": "stream",
          "name": "stdout",
          "text": [
            "Anda memiliki pesan baru!\n"
          ]
        }
      ]
    },
    {
      "cell_type": "code",
      "source": [
        "# Contoh penggunaan Percabangan ganda\n",
        "\n",
        "umur = input(\"berapa umur kamu:\")\n",
        "if int(umur) >= 18:\n",
        "  print(\"Kamu boleh membuat KTP\")\n",
        "else:\n",
        "  print(\"Kamu belum boleh membuat KTP\")"
      ],
      "metadata": {
        "colab": {
          "base_uri": "https://localhost:8080/"
        },
        "id": "6Fe3ichfZb0F",
        "outputId": "a7e3f695-0af0-4c99-b685-6f11ec851042"
      },
      "execution_count": null,
      "outputs": [
        {
          "output_type": "stream",
          "name": "stdout",
          "text": [
            "berapa umur kamu:21\n",
            "Kamu boleh membuat KTP\n"
          ]
        }
      ]
    },
    {
      "cell_type": "code",
      "source": [
        "total_belanja = 35000\n",
        "\n",
        "if total_belanja > 20000:\n",
        "  diskon = total_belanja * 0.10\n",
        "  total_bayar = total_belanja - diskon\n",
        "  print(f\"Anda mendapat diskon! total bayar: Rp {total_bayar}\")\n",
        "else:\n",
        "  print(f\"total bayar: Rp {total_belanja}\")"
      ],
      "metadata": {
        "colab": {
          "base_uri": "https://localhost:8080/"
        },
        "id": "aaTpuMWdZzJu",
        "outputId": "39b1f810-c54a-40df-c5f5-1001b0991a0f"
      },
      "execution_count": null,
      "outputs": [
        {
          "output_type": "stream",
          "name": "stdout",
          "text": [
            "Anda mendapat diskon! total bayar: Rp 31500.0\n"
          ]
        }
      ]
    },
    {
      "cell_type": "code",
      "source": [
        "angka = int(input(\"Masukkan bilangan: \"))\n",
        "\n",
        "if angka %2 == 0:\n",
        "  print(\"Bilangan Genap\")\n",
        "else:\n",
        "  print(\"Bilangan Ganjil\")"
      ],
      "metadata": {
        "colab": {
          "base_uri": "https://localhost:8080/"
        },
        "id": "fX34BeDFaq_s",
        "outputId": "98263fe0-0686-423a-b3f4-ebaf720d52f5"
      },
      "execution_count": null,
      "outputs": [
        {
          "output_type": "stream",
          "name": "stdout",
          "text": [
            "Masukkan bilangan: 6\n",
            "Bilangan Genap\n"
          ]
        }
      ]
    },
    {
      "cell_type": "code",
      "source": [
        "# Contoh penggunaan IF Majemuk\n",
        "\n",
        "nilai = 90\n",
        "if nilai >= 85:\n",
        "  print(\"Amazing! Nilai A\")\n",
        "elif nilai >= 75:\n",
        "  print(\"Good Job! Nilai B\")\n",
        "elif nilai >= 65:\n",
        "  print(\"Not Bad! Nilai C\")\n",
        "else:\n",
        "  print(\"Keep Trying\")\n"
      ],
      "metadata": {
        "colab": {
          "base_uri": "https://localhost:8080/"
        },
        "id": "tqlgmEVHbGFz",
        "outputId": "23373131-86db-44e3-b885-3c8016ab91cc"
      },
      "execution_count": null,
      "outputs": [
        {
          "output_type": "stream",
          "name": "stdout",
          "text": [
            "Amazing! Nilai A\n"
          ]
        }
      ]
    },
    {
      "cell_type": "code",
      "source": [
        "# Menentukan jenis diskon berdasarkan hari\n",
        "hari: str = \"Sabtu\"\n",
        "\n",
        "if hari == \"Sabtu\" or hari == \"Minggu\":\n",
        "  diskon: float = 0.20\n",
        "  print(f\"Selamat! Anda mendapat diskon akhir pekan sebesar {diskon*100}%\")\n",
        "elif hari == \"Jumat\":\n",
        "  diskon: float = 0.15\n",
        "  print(f\"Diskon spesial Jumat! Anda mendapat potongan {diskon*100}%\")\n",
        "else:\n",
        "  diskon: float = 0.05\n",
        "  print(f\"Anda mendapat diskon hari biasa sebesar {diskon*100}%\")"
      ],
      "metadata": {
        "colab": {
          "base_uri": "https://localhost:8080/"
        },
        "id": "BffZvX0ecF4w",
        "outputId": "23e82e07-5f71-4873-953b-af9968c0213f"
      },
      "execution_count": null,
      "outputs": [
        {
          "output_type": "stream",
          "name": "stdout",
          "text": [
            "Selamat! Anda mendapat diskon akhir pekan sebesar 20.0%\n"
          ]
        }
      ]
    },
    {
      "cell_type": "code",
      "source": [
        "rupiah = int(input(\"Masukkan jumlah uang (Rp): \"))\n",
        "print(\"1. Dollar (USD)\")\n",
        "print(\"2. Euro (EUR)\")\n",
        "print(\"3. Yen (JPY)\")\n",
        "pilih = int(input(\"Pilih konversi (1/2/3): \"))\n",
        "\n",
        "if pilih == 1:\n",
        "  print(\"Dalam Dollar:\", rupiah / 15000)\n",
        "elif pilih == 2:\n",
        "  print(\"Dalam Euro:\", rupiah / 16000)\n",
        "elif pilih == 3:\n",
        "  print(\"Dalam Yen:\", rupiah / 120)\n",
        "else:\n",
        "  print(\"Pilihan tidak valid\")"
      ],
      "metadata": {
        "colab": {
          "base_uri": "https://localhost:8080/"
        },
        "id": "z4u4m0LgdwNW",
        "outputId": "b270ab8c-95ea-4fdb-8960-ca63c78b63d9"
      },
      "execution_count": null,
      "outputs": [
        {
          "output_type": "stream",
          "name": "stdout",
          "text": [
            "Masukkan jumlah uang (Rp): 41000\n",
            "1. Dollar (USD)\n",
            "2. Euro (EUR)\n",
            "3. Yen (JPY)\n",
            "Pilih konversi (1/2/3): 3\n",
            "Dalam Yen: 341.6666666666667\n"
          ]
        }
      ]
    }
  ]
}