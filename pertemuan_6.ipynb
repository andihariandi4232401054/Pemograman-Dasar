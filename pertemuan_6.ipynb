{
  "nbformat": 4,
  "nbformat_minor": 0,
  "metadata": {
    "colab": {
      "provenance": [],
      "authorship_tag": "ABX9TyNeQ9Kkoqtl3sGrdRlD7WIP",
      "include_colab_link": true
    },
    "kernelspec": {
      "name": "python3",
      "display_name": "Python 3"
    },
    "language_info": {
      "name": "python"
    }
  },
  "cells": [
    {
      "cell_type": "markdown",
      "metadata": {
        "id": "view-in-github",
        "colab_type": "text"
      },
      "source": [
        "<a href=\"https://colab.research.google.com/github/andihariandi4232401054/Pemograman-Dasar/blob/main/pertemuan_6.ipynb\" target=\"_parent\"><img src=\"https://colab.research.google.com/assets/colab-badge.svg\" alt=\"Open In Colab\"/></a>"
      ]
    },
    {
      "cell_type": "code",
      "execution_count": 1,
      "metadata": {
        "colab": {
          "base_uri": "https://localhost:8080/"
        },
        "id": "UmNxgvd1qiQ9",
        "outputId": "08156259-9823-439f-db32-ec4933e909c6"
      },
      "outputs": [
        {
          "output_type": "stream",
          "name": "stdout",
          "text": [
            "Halo, semesta!\n"
          ]
        }
      ],
      "source": [
        "#print()\n",
        "print(\"Halo, semesta!\")\n"
      ]
    },
    {
      "cell_type": "code",
      "source": [
        "#len()\n",
        "nama = \"Andi\"\n",
        "print(len(nama))\n"
      ],
      "metadata": {
        "colab": {
          "base_uri": "https://localhost:8080/"
        },
        "id": "Tyo0NBYyqztM",
        "outputId": "b79ff3c5-311d-4a2a-fb3c-ab618b2774c9"
      },
      "execution_count": 2,
      "outputs": [
        {
          "output_type": "stream",
          "name": "stdout",
          "text": [
            "4\n"
          ]
        }
      ]
    },
    {
      "cell_type": "code",
      "source": [
        "#type()\n",
        "x = 10\n",
        "print(type(x))\n"
      ],
      "metadata": {
        "colab": {
          "base_uri": "https://localhost:8080/"
        },
        "id": "Eu5y_L0drNIR",
        "outputId": "b5257885-2192-49cb-a4f7-611fab459828"
      },
      "execution_count": 3,
      "outputs": [
        {
          "output_type": "stream",
          "name": "stdout",
          "text": [
            "<class 'int'>\n"
          ]
        }
      ]
    },
    {
      "cell_type": "code",
      "source": [
        "#sum()\n",
        "angka = [5, 10, 15]\n",
        "print(sum(angka))\n"
      ],
      "metadata": {
        "colab": {
          "base_uri": "https://localhost:8080/"
        },
        "id": "pkIdIY-TrZiC",
        "outputId": "8989b994-2f12-4e98-e5a7-4ec872d72b7c"
      },
      "execution_count": 4,
      "outputs": [
        {
          "output_type": "stream",
          "name": "stdout",
          "text": [
            "30\n"
          ]
        }
      ]
    },
    {
      "cell_type": "code",
      "source": [
        "print(\"=== PROGRAM PEMBELIAN TIKET BIOSKOP ===\\n\")\n",
        "\n",
        "# Input data pembeli\n",
        "nama_pembeli = input(\"Masukkan nama pembeli: \")\n",
        "metode_pembayaran = input(\"Masukkan metode pembayaran (Cash/Debit/QRIS): \")\n",
        "\n",
        "# Status member\n",
        "jawaban_member = input(\"Apakah Anda member bioskop? (ya/tidak): \").lower()\n",
        "if jawaban_member == \"ya\":\n",
        "    member = True\n",
        "else:\n",
        "    member = False\n",
        "\n",
        "# Daftar film dan harga tiket\n",
        "daftar_film = [\"Avengers: Endgame\", \"Frozen 2\", \"Spiderman: No Way Home\", \"The Batman\"]\n",
        "harga_tiket = (45000, 40000, 50000, 48000)\n",
        "\n",
        "# Data pembeli dan promo\n",
        "pembeli = {\"Nama\": nama_pembeli, \"Pembayaran\": metode_pembayaran, \"Member\": member}\n",
        "promo_tersedia = {\"Diskon10%\", \"PopcornGratis\", \"VoucherSnack\"}\n",
        "\n",
        "# Tampilkan daftar film\n",
        "print(f\"\\nHalo, {pembeli['Nama']}\")\n",
        "print(\"Daftar film yang sedang tayang:\\n\")\n",
        "for i in range(len(daftar_film)):\n",
        "    print(f\"{i+1}. {daftar_film[i]} - Harga Tiket: Rp{harga_tiket[i]:,}\")\n",
        "\n",
        "# Pilih jumlah tiket\n",
        "jumlah_tiket = int(input(\"\\nBerapa tiket yang ingin dibeli? \"))\n",
        "\n",
        "total = 0\n",
        "hitung = 0\n",
        "while hitung < jumlah_tiket:\n",
        "    pilihan = int(input(f\"Masukkan nomor film ke-{hitung+1}: \"))\n",
        "    if 1 <= pilihan <= len(daftar_film):\n",
        "        total += harga_tiket[pilihan-1]\n",
        "    else:\n",
        "        print(\"Nomor film tidak valid!\")\n",
        "    hitung += 1\n",
        "\n",
        "# Logika diskon\n",
        "if total > 150000:\n",
        "    diskon = 0.15\n",
        "    kategori = \"Diskon 15%\"\n",
        "elif total > 80000:\n",
        "    diskon = 0.1\n",
        "    kategori = \"Diskon 10%\"\n",
        "else:\n",
        "    diskon = 0\n",
        "    kategori = \"Tanpa Diskon\"\n",
        "\n",
        "# Bonus tambahan: Member dapat diskon ekstra 5%\n",
        "if member:\n",
        "    total_akhir = total - (total * (diskon + 0.05))\n",
        "    tambahan = \"Termasuk diskon member 5%\"\n",
        "else:\n",
        "    total_akhir = total - (total * diskon)\n",
        "    tambahan = \"Tidak termasuk diskon member\"\n",
        "\n",
        "# Tampilkan struk pembayaran\n",
        "print(\"\\n=== STRUK PEMBAYARAN ===\")\n",
        "print(f\"Nama Pembeli       : {pembeli['Nama']}\")\n",
        "print(f\"Metode Pembayaran  : {pembeli['Pembayaran']}\")\n",
        "print(f\"Member Aktif       : {pembeli['Member']}\")\n",
        "print(f\"Promo Tersedia     : {promo_tersedia}\")\n",
        "print(f\"Kategori Diskon    : {kategori}\")\n",
        "print(f\"Keterangan          : {tambahan}\")\n",
        "print(f\"Total Bayar        : Rp{total_akhir:,.0f}\")\n",
        "print(\"Terima kasih telah membeli tiket di Bioskop Kami! 🍿\")\n"
      ],
      "metadata": {
        "colab": {
          "base_uri": "https://localhost:8080/"
        },
        "id": "tVWuhfy1tF_c",
        "outputId": "9298c1f2-ecf8-45e4-9977-d27c108b4334"
      },
      "execution_count": 6,
      "outputs": [
        {
          "output_type": "stream",
          "name": "stdout",
          "text": [
            "=== PROGRAM PEMBELIAN TIKET BIOSKOP ===\n",
            "\n",
            "Masukkan nama pembeli: Andi\n",
            "Masukkan metode pembayaran (Cash/Debit/QRIS): QRIS\n",
            "Apakah Anda member bioskop? (ya/tidak): tidak\n",
            "\n",
            "Halo, Andi\n",
            "Daftar film yang sedang tayang:\n",
            "\n",
            "1. Avengers: Endgame - Harga Tiket: Rp45,000\n",
            "2. Frozen 2 - Harga Tiket: Rp40,000\n",
            "3. Spiderman: No Way Home - Harga Tiket: Rp50,000\n",
            "4. The Batman - Harga Tiket: Rp48,000\n",
            "\n",
            "Berapa tiket yang ingin dibeli? 2\n",
            "Masukkan nomor film ke-1: 4\n",
            "Masukkan nomor film ke-2: 4\n",
            "\n",
            "=== STRUK PEMBAYARAN ===\n",
            "Nama Pembeli       : Andi\n",
            "Metode Pembayaran  : QRIS\n",
            "Member Aktif       : False\n",
            "Promo Tersedia     : {'VoucherSnack', 'PopcornGratis', 'Diskon10%'}\n",
            "Kategori Diskon    : Diskon 10%\n",
            "Keterangan          : Tidak termasuk diskon member\n",
            "Total Bayar        : Rp86,400\n",
            "Terima kasih telah membeli tiket di Bioskop Kami! 🍿\n"
          ]
        }
      ]
    }
  ]
}