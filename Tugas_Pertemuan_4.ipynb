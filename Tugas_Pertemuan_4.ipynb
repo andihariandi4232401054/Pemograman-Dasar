{
  "nbformat": 4,
  "nbformat_minor": 0,
  "metadata": {
    "colab": {
      "provenance": [],
      "authorship_tag": "ABX9TyNpylxACiLbVXNJKoQ+aIJR",
      "include_colab_link": true
    },
    "kernelspec": {
      "name": "python3",
      "display_name": "Python 3"
    },
    "language_info": {
      "name": "python"
    }
  },
  "cells": [
    {
      "cell_type": "markdown",
      "metadata": {
        "id": "view-in-github",
        "colab_type": "text"
      },
      "source": [
        "<a href=\"https://colab.research.google.com/github/andihariandi4232401054/Pemograman-Dasar/blob/main/Tugas_Pertemuan_4.ipynb\" target=\"_parent\"><img src=\"https://colab.research.google.com/assets/colab-badge.svg\" alt=\"Open In Colab\"/></a>"
      ]
    },
    {
      "cell_type": "code",
      "execution_count": 3,
      "metadata": {
        "colab": {
          "base_uri": "https://localhost:8080/"
        },
        "id": "NWjm5mZ9S42G",
        "outputId": "a9fdf16d-0ff9-4531-b0e9-d19cfc050c0a"
      },
      "outputs": [
        {
          "output_type": "stream",
          "name": "stdout",
          "text": [
            "==============================\n",
            "WELCOME TO CAFE MARILYN MONROE\n",
            "==============================\n",
            "Menu Food & Drink:\n",
            "1. Black Coffee    - Rp 16.000\n",
            "2. Tropical Tea    - Rp 9.000\n",
            "3. Apple Pie       - Rp 25.000\n",
            "4. Mini Pizza      - Rp 12.000\n",
            "5. Sweett Monroe   - Rp 26.500\n",
            "6. Cheese Cake     - Rp 45.500\n",
            "7. Mix Cake Monroe - Rp 34.000\n",
            "==============================\n",
            "Please! Select Your Menu... (1-7): 5\n",
            "\n",
            "Your Order Sweett Monroe with price Rp 26500\n",
            "Discount 30% = Rp 7950\n",
            "Total to be paid: Rp 18550\n",
            "\n",
            "Enter Your Total Money: Rp 20000\n",
            "\n",
            "=== Struk Paid ===\n",
            "Your Order    : Sweett Monroe\n",
            "Real Price    : Rp 26500\n",
            "Discount      : Rp 7950\n",
            "Total Paid    : Rp 18550\n",
            "Money Paid    : Rp 20000\n",
            "Change        : Rp 1450.0\n",
            "=========================\n",
            "Thank You For Ordered!\n"
          ]
        }
      ],
      "source": [
        "print(\"=\"*30)\n",
        "print(\"WELCOME TO CAFE MARILYN MONROE\")\n",
        "print(\"=\"*30)\n",
        "print(\"Menu Food & Drink:\")\n",
        "print(\"1. Black Coffee    - Rp 16.000\")\n",
        "print(\"2. Tropical Tea    - Rp 9.000\")\n",
        "print(\"3. Apple Pie       - Rp 25.000\")\n",
        "print(\"4. Mini Pizza      - Rp 12.000\")\n",
        "print(\"5. Sweett Monroe   - Rp 26.500\")\n",
        "print(\"6. Cheese Cake     - Rp 45.500\")\n",
        "print(\"7. Mix Cake Monroe - Rp 34.000\")\n",
        "print(\"=\"*30)\n",
        "\n",
        "pilihan_str: str = input(\"Please! Select Your Menu... (1-7): \")\n",
        "pilihan: int = int(pilihan_str)\n",
        "nama_pesanan: str = \"\"\n",
        "harga: int = 0\n",
        "\n",
        "if pilihan == 1:\n",
        "    nama_pesanan = \"Black Coffee\"\n",
        "    harga = 16000\n",
        "elif pilihan == 2:\n",
        "    nama_pesanan = \"Tropical Tea\"\n",
        "    harga = 9000\n",
        "elif pilihan == 3:\n",
        "    nama_pesanan = \"Apple Pie\"\n",
        "    harga = 25000\n",
        "elif pilihan == 4:\n",
        "    nama_pesanan = \"Mini Pizza\"\n",
        "    harga = 12000\n",
        "elif pilihan == 5:\n",
        "    nama_pesanan = \"Sweett Monroe\"\n",
        "    harga = 26500\n",
        "elif pilihan == 6:\n",
        "    nama_pesanan = \"Cheese Cake\"\n",
        "    harga = 45500\n",
        "elif pilihan == 7:\n",
        "    nama_pesanan = \"Mix Cake Monroe\"\n",
        "    harga = 34000\n",
        "else:\n",
        "    print(\"Sorry, Selected Menu Is Invalid!. Please... Redo Your Program.\")\n",
        "\n",
        "if harga > 0:\n",
        "    # Tentukan diskon\n",
        "    if harga >= 49000:\n",
        "        diskon = 0.70\n",
        "    elif harga >= 35000:\n",
        "        diskon = 0.50\n",
        "    elif harga >= 21000:\n",
        "        diskon = 0.30\n",
        "    else:\n",
        "        diskon = 0\n",
        "\n",
        "    potongan = harga * diskon\n",
        "    total_bayar = harga - potongan\n",
        "\n",
        "    print(f\"\\nYour Order {nama_pesanan} with price Rp {harga}\")\n",
        "    if diskon > 0:\n",
        "        print(f\"Discount {int(diskon*100)}% = Rp {int(potongan)}\")\n",
        "    else:\n",
        "        print(\"Tidak ada diskon.\")\n",
        "    print(f\"Total to be paid: Rp {int(total_bayar)}\")\n",
        "\n",
        "    uang_dibayar: int = int(input(\"\\nEnter Your Total Money: Rp \"))\n",
        "    if uang_dibayar >= total_bayar:\n",
        "        kembalian = uang_dibayar - total_bayar\n",
        "        print(\"\\n=== Struk Paid ===\")\n",
        "        print(f\"Your Order    : {nama_pesanan}\")\n",
        "        print(f\"Real Price    : Rp {harga}\")\n",
        "        print(f\"Discount      : Rp {int(potongan)}\")\n",
        "        print(f\"Total Paid    : Rp {int(total_bayar)}\")\n",
        "        print(f\"Money Paid    : Rp {uang_dibayar}\")\n",
        "        print(f\"Change        : Rp {kembalian}\")\n",
        "        print(\"=========================\")\n",
        "        print(\"Thank You For Ordered!\")\n",
        "    else:\n",
        "        kekurangan = total_bayar - uang_dibayar\n",
        "        print(f\"Maaf, uang Anda kurang sebesar Rp {kekurangan}\")\n"
      ]
    }
  ]
}